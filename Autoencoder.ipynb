{
 "cells": [
  {
   "cell_type": "markdown",
   "metadata": {},
   "source": [
    "# Simple Autoencoder Model\n",
    "\n",
    "*This is my submission for Google Code-in's Tensorflow Autoencoder challenge.*\n",
    "\n",
    "This notebook walks you through how to create a simple autoencoder using Keras that can encode and decode images in the MNIST dataset. Enjoy :)\n",
    "\n",
    "Author: Adar Kahiri"
   ]
  },
  {
   "cell_type": "code",
   "execution_count": 1,
   "metadata": {},
   "outputs": [
    {
     "name": "stderr",
     "output_type": "stream",
     "text": [
      "/anaconda3/lib/python3.6/site-packages/h5py/__init__.py:36: FutureWarning: Conversion of the second argument of issubdtype from `float` to `np.floating` is deprecated. In future, it will be treated as `np.float64 == np.dtype(float).type`.\n",
      "  from ._conv import register_converters as _register_converters\n"
     ]
    },
    {
     "name": "stdout",
     "output_type": "stream",
     "text": [
      "2.0.0\n"
     ]
    }
   ],
   "source": [
    "#Importing dependencies\n",
    "import tensorflow as tf\n",
    "from tensorflow.keras.models import Sequential, Model\n",
    "from tensorflow.keras.layers import Input, Dense, Conv2D, MaxPooling2D, Flatten, Reshape, Conv2DTranspose\n",
    "import matplotlib.pyplot as plt \n",
    "import numpy as np\n",
    "print(tf.__version__)"
   ]
  },
  {
   "cell_type": "markdown",
   "metadata": {},
   "source": [
    "## Importing & Normalizing The Data"
   ]
  },
  {
   "cell_type": "code",
   "execution_count": 2,
   "metadata": {
    "scrolled": true
   },
   "outputs": [],
   "source": [
    "train, test = tf.keras.datasets.mnist.load_data(path='mnist.npz')\n",
    "\n",
    "train_images, _ = train #It's not necessary to keep the labels for autoencoders\n",
    "test_images, _ = test\n",
    "\n",
    "#Normalizing images to between 0 and 1. Dividing by 255 (the max brightness of a pixel) ensures this. \n",
    "train_images, test_images = np.divide(train_images, 255), np.divide(test_images, 255)"
   ]
  },
  {
   "cell_type": "markdown",
   "metadata": {},
   "source": [
    "## Visualizing A Batch Of Data"
   ]
  },
  {
   "cell_type": "code",
   "execution_count": 3,
   "metadata": {},
   "outputs": [
    {
     "data": {
      "text/plain": [
       "<matplotlib.image.AxesImage at 0xb37690ef0>"
      ]
     },
     "execution_count": 3,
     "metadata": {},
     "output_type": "execute_result"
    },
    {
     "data": {
      "image/png": "[encoded data removed]",
      "text/plain": [
       "<Figure size 432x288 with 1 Axes>"
      ]
     },
     "metadata": {},
     "output_type": "display_data"
    }
   ],
   "source": [
    "fig = plt.figure()\n",
    "plt.imshow(train_images[0], cmap='gray') #Printing the first training image"
   ]
  },
  {
   "cell_type": "code",
   "execution_count": 4,
   "metadata": {},
   "outputs": [
    {
     "name": "stdout",
     "output_type": "stream",
     "text": [
      "Training shape: (60000, 28, 28) \n",
      "Output shape: (10000, 28, 28)\n"
     ]
    }
   ],
   "source": [
    "#Converting the data from numpy arrays to TensorFlow tensors\n",
    "train_images = tf.convert_to_tensor(train_images)\n",
    "test_images = tf.convert_to_tensor(test_images)\n",
    "\n",
    "print(\"Training shape: {} \\nOutput shape: {}\".format(train_images.shape, test_images.shape))"
   ]
  },
  {
   "cell_type": "markdown",
   "metadata": {},
   "source": [
    "## Creating the encoder and decoder"
   ]
  },
  {
   "cell_type": "code",
   "execution_count": 5,
   "metadata": {
    "scrolled": true
   },
   "outputs": [
    {
     "name": "stdout",
     "output_type": "stream",
     "text": [
      "Model: \"sequential\"\n",
      "_________________________________________________________________\n",
      "Layer (type)                 Output Shape              Param #   \n",
      "=================================================================\n",
      "conv2d (Conv2D)              (None, 14, 14, 16)        80        \n",
      "_________________________________________________________________\n",
      "conv2d_1 (Conv2D)            (None, 7, 7, 24)          1560      \n",
      "_________________________________________________________________\n",
      "flatten (Flatten)            (None, 1176)              0         \n",
      "_________________________________________________________________\n",
      "dense (Dense)                (None, 32)                37664     \n",
      "=================================================================\n",
      "Total params: 39,304\n",
      "Trainable params: 39,304\n",
      "Non-trainable params: 0\n",
      "_________________________________________________________________\n",
      "Model: \"sequential_1\"\n",
      "_________________________________________________________________\n",
      "Layer (type)                 Output Shape              Param #   \n",
      "=================================================================\n",
      "dense_1 (Dense)              (None, 1176)              38808     \n",
      "_________________________________________________________________\n",
      "reshape (Reshape)            (None, 7, 7, 24)          0         \n",
      "_________________________________________________________________\n",
      "conv2d_transpose (Conv2DTran (None, 14, 14, 16)        1552      \n",
      "_________________________________________________________________\n",
      "conv2d_transpose_1 (Conv2DTr (None, 28, 28, 1)         65        \n",
      "=================================================================\n",
      "Total params: 40,425\n",
      "Trainable params: 40,425\n",
      "Non-trainable params: 0\n",
      "_________________________________________________________________\n"
     ]
    }
   ],
   "source": [
    "# ------------- ENCODER ------------- #\n",
    "encoder = Sequential() #Initializing the encoder\n",
    "encoder.add(Conv2D(16, kernel_size=2, input_shape=(28, 28, 1), padding='same', strides=2, activation='relu' )) #16 filters, 2x2 kernels, stride of 2, and ReLu activation function. \n",
    "encoder.add(Conv2D(24, kernel_size=2, padding='same', strides=2, activation='relu')) #24 filters, 2x2 kernels, stride of 2, and ReLu activation function. \n",
    "encoder.add(Flatten()) #Flattening the image so it can be put through a dense layer\n",
    "encoder.add(Dense(32, input_shape=(7*7*24,), activation='relu')) #Input shape is obtained from the dimensions of each image multiplied by # of convolutional layers beforehand.\n",
    "\n",
    "\n",
    "# ------------- ENCODER ------------- #\n",
    "'''\n",
    "This is basically the reverse of the encoder. It will take the input generated by the final linear (dense)\n",
    "of the encoder, and convert it back to its original form. If it can do this well, we'll know that the embedding\n",
    "generated by the encoder was accurate. \n",
    "'''\n",
    "decoder = Sequential() #Initializing the decoder\n",
    "decoder.add(Dense(7*7*24, input_shape=(32,), activation='relu'))\n",
    "decoder.add(Reshape((7, 7, 24)))\n",
    "decoder.add(Conv2DTranspose(16, kernel_size=2, padding='same', strides=2, activation='relu'))\n",
    "decoder.add(Conv2DTranspose(1, kernel_size=2, padding='same', strides=2, activation='relu'))\n",
    "\n",
    "#Output a 'model summary'. This is useful for debugging since it shows us the shape of the output at each step. \n",
    "encoder.summary()\n",
    "decoder.summary()"
   ]
  },
  {
   "cell_type": "markdown",
   "metadata": {},
   "source": [
    "## Creating the composite model (the complete autoencoder)\n",
    "Right now we have two separate models. In order to train them as one model, we can use the Functional API. "
   ]
  },
  {
   "cell_type": "code",
   "execution_count": 6,
   "metadata": {},
   "outputs": [
    {
     "name": "stdout",
     "output_type": "stream",
     "text": [
      "Model: \"model\"\n",
      "_________________________________________________________________\n",
      "Layer (type)                 Output Shape              Param #   \n",
      "=================================================================\n",
      "input_1 (InputLayer)         [(None, 28, 28, 1)]       0         \n",
      "_________________________________________________________________\n",
      "sequential (Sequential)      (None, 32)                39304     \n",
      "_________________________________________________________________\n",
      "sequential_1 (Sequential)    (None, 28, 28, 1)         40425     \n",
      "=================================================================\n",
      "Total params: 79,729\n",
      "Trainable params: 79,729\n",
      "Non-trainable params: 0\n",
      "_________________________________________________________________\n"
     ]
    }
   ],
   "source": [
    "#Creating the model graph\n",
    "img_input = Input(shape=(28, 28, 1))\n",
    "encoder_output = encoder(img_input) #Feeding image input into encoder model\n",
    "decoder_output = decoder(encoder_output) #Feeding the encoder output into the decoder model\n",
    "\n",
    "#Defining the model\n",
    "autoencoder = Model(inputs=img_input, outputs=decoder_output) #\n",
    "autoencoder.summary() #Display the shape of the output."
   ]
  },
  {
   "cell_type": "markdown",
   "metadata": {},
   "source": [
    "## Training the model"
   ]
  },
  {
   "cell_type": "code",
   "execution_count": 7,
   "metadata": {},
   "outputs": [
    {
     "name": "stdout",
     "output_type": "stream",
     "text": [
      "(60000, 28, 28, 1)\n",
      "(10000, 28, 28, 1)\n"
     ]
    }
   ],
   "source": [
    "#Adding a channel dimension of 1 to input\n",
    "train_images = tf.expand_dims(train_images, -1)\n",
    "test_images = tf.expand_dims(test_images, -1)\n",
    "print(train_images.shape)\n",
    "print(test_images.shape)"
   ]
  },
  {
   "cell_type": "code",
   "execution_count": 8,
   "metadata": {},
   "outputs": [
    {
     "name": "stdout",
     "output_type": "stream",
     "text": [
      "Train on 60000 samples\n",
      "Epoch 1/16\n",
      "60000/60000 [==============================] - 15s 246us/sample - loss: 0.1848 - binary_crossentropy: 0.1848\n",
      "Epoch 2/16\n",
      "60000/60000 [==============================] - 13s 224us/sample - loss: 0.1499 - binary_crossentropy: 0.1499\n",
      "Epoch 3/16\n",
      "60000/60000 [==============================] - 13s 224us/sample - loss: 0.1372 - binary_crossentropy: 0.1372\n",
      "Epoch 4/16\n",
      "60000/60000 [==============================] - 14s 227us/sample - loss: 0.1343 - binary_crossentropy: 0.1343\n",
      "Epoch 5/16\n",
      "60000/60000 [==============================] - 14s 229us/sample - loss: 0.1360 - binary_crossentropy: 0.1360\n",
      "Epoch 6/16\n",
      "60000/60000 [==============================] - 14s 230us/sample - loss: 0.1288 - binary_crossentropy: 0.1288\n",
      "Epoch 7/16\n",
      "60000/60000 [==============================] - 15s 246us/sample - loss: 0.1265 - binary_crossentropy: 0.1265\n",
      "Epoch 8/16\n",
      "60000/60000 [==============================] - 14s 237us/sample - loss: 0.1316 - binary_crossentropy: 0.1316\n",
      "Epoch 9/16\n",
      "60000/60000 [==============================] - 14s 230us/sample - loss: 0.1277 - binary_crossentropy: 0.1277\n",
      "Epoch 10/16\n",
      "60000/60000 [==============================] - 15s 245us/sample - loss: 0.1285 - binary_crossentropy: 0.1285\n",
      "Epoch 11/16\n",
      "60000/60000 [==============================] - 14s 230us/sample - loss: 0.1242 - binary_crossentropy: 0.1242\n",
      "Epoch 12/16\n",
      "60000/60000 [==============================] - 23s 388us/sample - loss: 0.1314 - binary_crossentropy: 0.1314\n",
      "Epoch 13/16\n",
      "60000/60000 [==============================] - 19s 309us/sample - loss: 0.1289 - binary_crossentropy: 0.1289\n",
      "Epoch 14/16\n",
      "60000/60000 [==============================] - 17s 280us/sample - loss: 0.1175 - binary_crossentropy: 0.1175\n",
      "Epoch 15/16\n",
      "60000/60000 [==============================] - 13s 221us/sample - loss: 0.1269 - binary_crossentropy: 0.1269\n",
      "Epoch 16/16\n",
      "60000/60000 [==============================] - 15s 244us/sample - loss: 0.1249 - binary_crossentropy: 0.1249\n"
     ]
    }
   ],
   "source": [
    "#Specifying hyperparamaters\n",
    "n_epochs = 30 #Number of epochs over which the model will train \n",
    "\n",
    "#Specifying loss function, metrics, and optimizer\n",
    "loss = tf.keras.losses.BinaryCrossentropy() #Using mean squared error loss\n",
    "metrics = tf.metrics.BinaryCrossentropy()\n",
    "optimizer = tf.keras.optimizers.Adam() #Using the Adam Optimizer\n",
    "\n",
    "\n",
    "#Compiling the model\n",
    "autoencoder.compile(optimizer=optimizer, loss=loss, metrics=[metrics])\n",
    "\n",
    "#Running the model\n",
    "history = autoencoder.fit(train_images, train_images, epochs=16)"
   ]
  },
  {
   "cell_type": "markdown",
   "metadata": {},
   "source": [
    "## Visualizing the output"
   ]
  },
  {
   "cell_type": "code",
   "execution_count": 9,
   "metadata": {},
   "outputs": [
    {
     "name": "stdout",
     "output_type": "stream",
     "text": [
      "Enter the index of the image in the test set you'd like to test: 0\n"
     ]
    },
    {
     "data": {
      "image/png": "[encoded data removed]",
      "text/plain": [
       "<Figure size 432x288 with 2 Axes>"
      ]
     },
     "metadata": {},
     "output_type": "display_data"
    }
   ],
   "source": [
    "idx = int(input(\"Enter the index of the image in the test set you'd like to test: \"))\n",
    "test_image = tf.expand_dims(test_images[idx], 0)\n",
    "new_image = autoencoder.predict(test_image)\n",
    "\n",
    "fig = plt.figure()\n",
    "\n",
    "original = fig.add_subplot(1, 2, 1)\n",
    "original.imshow(test_images[idx].numpy().squeeze(), cmap='gray')\n",
    "original.set_title('Original')\n",
    "\n",
    "output = fig.add_subplot(1, 2, 2)\n",
    "output.imshow(new_image.squeeze(), cmap='gray') \n",
    "output.set_title('Output')\n",
    "plt.show()\n"
   ]
  }
 ],
 "metadata": {
  "kernelspec": {
   "display_name": "Python 3",
   "language": "python",
   "name": "python3"
  },
  "language_info": {
   "codemirror_mode": {
    "name": "ipython",
    "version": 3
   },
   "file_extension": ".py",
   "mimetype": "text/x-python",
   "name": "python",
   "nbconvert_exporter": "python",
   "pygments_lexer": "ipython3",
   "version": "3.6.5"
  }
 },
 "nbformat": 4,
 "nbformat_minor": 2
}
